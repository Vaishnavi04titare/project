{
 "cells": [
  {
   "cell_type": "code",
   "execution_count": 1,
   "metadata": {},
   "outputs": [],
   "source": [
    "import pandas as pd\n",
    "import numpy as np\n",
    "import pickle\n",
    "import scipy"
   ]
  },
  {
   "cell_type": "code",
   "execution_count": 2,
   "metadata": {},
   "outputs": [],
   "source": [
    "df = pd.read_csv('Stress.csv')"
   ]
  },
  {
   "cell_type": "code",
   "execution_count": 3,
   "metadata": {},
   "outputs": [
    {
     "data": {
      "text/html": [
       "<div>\n",
       "<style scoped>\n",
       "    .dataframe tbody tr th:only-of-type {\n",
       "        vertical-align: middle;\n",
       "    }\n",
       "\n",
       "    .dataframe tbody tr th {\n",
       "        vertical-align: top;\n",
       "    }\n",
       "\n",
       "    .dataframe thead th {\n",
       "        text-align: right;\n",
       "    }\n",
       "</style>\n",
       "<table border=\"1\" class=\"dataframe\">\n",
       "  <thead>\n",
       "    <tr style=\"text-align: right;\">\n",
       "      <th></th>\n",
       "      <th>sr</th>\n",
       "      <th>rr</th>\n",
       "      <th>t</th>\n",
       "      <th>lm</th>\n",
       "      <th>bo</th>\n",
       "      <th>rem</th>\n",
       "      <th>sr.1</th>\n",
       "      <th>hr</th>\n",
       "      <th>sl</th>\n",
       "    </tr>\n",
       "  </thead>\n",
       "  <tbody>\n",
       "    <tr>\n",
       "      <th>77</th>\n",
       "      <td>56.48</td>\n",
       "      <td>19.296</td>\n",
       "      <td>95.296</td>\n",
       "      <td>9.296</td>\n",
       "      <td>93.944</td>\n",
       "      <td>83.24</td>\n",
       "      <td>6.296</td>\n",
       "      <td>58.24</td>\n",
       "      <td>1</td>\n",
       "    </tr>\n",
       "    <tr>\n",
       "      <th>267</th>\n",
       "      <td>84.80</td>\n",
       "      <td>23.280</td>\n",
       "      <td>90.640</td>\n",
       "      <td>13.600</td>\n",
       "      <td>88.640</td>\n",
       "      <td>96.60</td>\n",
       "      <td>0.640</td>\n",
       "      <td>68.20</td>\n",
       "      <td>3</td>\n",
       "    </tr>\n",
       "    <tr>\n",
       "      <th>452</th>\n",
       "      <td>52.48</td>\n",
       "      <td>18.496</td>\n",
       "      <td>94.496</td>\n",
       "      <td>8.496</td>\n",
       "      <td>92.744</td>\n",
       "      <td>81.24</td>\n",
       "      <td>5.496</td>\n",
       "      <td>56.24</td>\n",
       "      <td>1</td>\n",
       "    </tr>\n",
       "    <tr>\n",
       "      <th>434</th>\n",
       "      <td>84.08</td>\n",
       "      <td>23.088</td>\n",
       "      <td>90.544</td>\n",
       "      <td>13.360</td>\n",
       "      <td>88.544</td>\n",
       "      <td>96.36</td>\n",
       "      <td>0.544</td>\n",
       "      <td>67.72</td>\n",
       "      <td>3</td>\n",
       "    </tr>\n",
       "    <tr>\n",
       "      <th>365</th>\n",
       "      <td>49.24</td>\n",
       "      <td>17.696</td>\n",
       "      <td>98.544</td>\n",
       "      <td>7.392</td>\n",
       "      <td>96.696</td>\n",
       "      <td>76.96</td>\n",
       "      <td>8.696</td>\n",
       "      <td>54.24</td>\n",
       "      <td>0</td>\n",
       "    </tr>\n",
       "  </tbody>\n",
       "</table>\n",
       "</div>"
      ],
      "text/plain": [
       "        sr      rr       t      lm      bo    rem   sr.1     hr  sl\n",
       "77   56.48  19.296  95.296   9.296  93.944  83.24  6.296  58.24   1\n",
       "267  84.80  23.280  90.640  13.600  88.640  96.60  0.640  68.20   3\n",
       "452  52.48  18.496  94.496   8.496  92.744  81.24  5.496  56.24   1\n",
       "434  84.08  23.088  90.544  13.360  88.544  96.36  0.544  67.72   3\n",
       "365  49.24  17.696  98.544   7.392  96.696  76.96  8.696  54.24   0"
      ]
     },
     "execution_count": 3,
     "metadata": {},
     "output_type": "execute_result"
    }
   ],
   "source": [
    "df.sample(5)"
   ]
  },
  {
   "cell_type": "code",
   "execution_count": 4,
   "metadata": {},
   "outputs": [
    {
     "data": {
      "text/html": [
       "<div>\n",
       "<style scoped>\n",
       "    .dataframe tbody tr th:only-of-type {\n",
       "        vertical-align: middle;\n",
       "    }\n",
       "\n",
       "    .dataframe tbody tr th {\n",
       "        vertical-align: top;\n",
       "    }\n",
       "\n",
       "    .dataframe thead th {\n",
       "        text-align: right;\n",
       "    }\n",
       "</style>\n",
       "<table border=\"1\" class=\"dataframe\">\n",
       "  <thead>\n",
       "    <tr style=\"text-align: right;\">\n",
       "      <th></th>\n",
       "      <th>snoring rate</th>\n",
       "      <th>respiration rate</th>\n",
       "      <th>body temperature</th>\n",
       "      <th>limb movement</th>\n",
       "      <th>blood oxygen</th>\n",
       "      <th>eye movement</th>\n",
       "      <th>sleeping hours</th>\n",
       "      <th>heart rate</th>\n",
       "      <th>stress level</th>\n",
       "    </tr>\n",
       "  </thead>\n",
       "  <tbody>\n",
       "    <tr>\n",
       "      <th>0</th>\n",
       "      <td>93.80</td>\n",
       "      <td>25.680</td>\n",
       "      <td>91.840</td>\n",
       "      <td>16.600</td>\n",
       "      <td>89.840</td>\n",
       "      <td>99.60</td>\n",
       "      <td>1.840</td>\n",
       "      <td>74.20</td>\n",
       "      <td>3</td>\n",
       "    </tr>\n",
       "    <tr>\n",
       "      <th>1</th>\n",
       "      <td>91.64</td>\n",
       "      <td>25.104</td>\n",
       "      <td>91.552</td>\n",
       "      <td>15.880</td>\n",
       "      <td>89.552</td>\n",
       "      <td>98.88</td>\n",
       "      <td>1.552</td>\n",
       "      <td>72.76</td>\n",
       "      <td>3</td>\n",
       "    </tr>\n",
       "    <tr>\n",
       "      <th>2</th>\n",
       "      <td>60.00</td>\n",
       "      <td>20.000</td>\n",
       "      <td>96.000</td>\n",
       "      <td>10.000</td>\n",
       "      <td>95.000</td>\n",
       "      <td>85.00</td>\n",
       "      <td>7.000</td>\n",
       "      <td>60.00</td>\n",
       "      <td>1</td>\n",
       "    </tr>\n",
       "    <tr>\n",
       "      <th>3</th>\n",
       "      <td>85.76</td>\n",
       "      <td>23.536</td>\n",
       "      <td>90.768</td>\n",
       "      <td>13.920</td>\n",
       "      <td>88.768</td>\n",
       "      <td>96.92</td>\n",
       "      <td>0.768</td>\n",
       "      <td>68.84</td>\n",
       "      <td>3</td>\n",
       "    </tr>\n",
       "    <tr>\n",
       "      <th>4</th>\n",
       "      <td>48.12</td>\n",
       "      <td>17.248</td>\n",
       "      <td>97.872</td>\n",
       "      <td>6.496</td>\n",
       "      <td>96.248</td>\n",
       "      <td>72.48</td>\n",
       "      <td>8.248</td>\n",
       "      <td>53.12</td>\n",
       "      <td>0</td>\n",
       "    </tr>\n",
       "  </tbody>\n",
       "</table>\n",
       "</div>"
      ],
      "text/plain": [
       "   snoring rate  respiration rate  body temperature  limb movement   \n",
       "0         93.80            25.680            91.840         16.600  \\\n",
       "1         91.64            25.104            91.552         15.880   \n",
       "2         60.00            20.000            96.000         10.000   \n",
       "3         85.76            23.536            90.768         13.920   \n",
       "4         48.12            17.248            97.872          6.496   \n",
       "\n",
       "   blood oxygen  eye movement  sleeping hours  heart rate  stress level  \n",
       "0        89.840         99.60           1.840       74.20             3  \n",
       "1        89.552         98.88           1.552       72.76             3  \n",
       "2        95.000         85.00           7.000       60.00             1  \n",
       "3        88.768         96.92           0.768       68.84             3  \n",
       "4        96.248         72.48           8.248       53.12             0  "
      ]
     },
     "execution_count": 4,
     "metadata": {},
     "output_type": "execute_result"
    }
   ],
   "source": [
    "df.rename(columns = {'sr':'snoring rate', 'rr':'respiration rate',\n",
    "                        't':'body temperature', 'lm':'limb movement', \n",
    "                        'bo':'blood oxygen', 'rem':'eye movement', \n",
    "                        'sr.1':'sleeping hours','hr':'heart rate', \n",
    "                        'sl':'stress level'}, inplace = True)\n",
    "\n",
    "\n",
    "df.head()"
   ]
  },
  {
   "cell_type": "code",
   "execution_count": 5,
   "metadata": {},
   "outputs": [],
   "source": [
    "df.drop(['snoring rate','limb movement','eye movement','blood oxygen'],\n",
    "        axis=1,inplace=True)"
   ]
  },
  {
   "cell_type": "code",
   "execution_count": 6,
   "metadata": {},
   "outputs": [
    {
     "data": {
      "text/html": [
       "<div>\n",
       "<style scoped>\n",
       "    .dataframe tbody tr th:only-of-type {\n",
       "        vertical-align: middle;\n",
       "    }\n",
       "\n",
       "    .dataframe tbody tr th {\n",
       "        vertical-align: top;\n",
       "    }\n",
       "\n",
       "    .dataframe thead th {\n",
       "        text-align: right;\n",
       "    }\n",
       "</style>\n",
       "<table border=\"1\" class=\"dataframe\">\n",
       "  <thead>\n",
       "    <tr style=\"text-align: right;\">\n",
       "      <th></th>\n",
       "      <th>respiration rate</th>\n",
       "      <th>body temperature</th>\n",
       "      <th>sleeping hours</th>\n",
       "      <th>heart rate</th>\n",
       "      <th>stress level</th>\n",
       "    </tr>\n",
       "  </thead>\n",
       "  <tbody>\n",
       "    <tr>\n",
       "      <th>0</th>\n",
       "      <td>25.680</td>\n",
       "      <td>91.840</td>\n",
       "      <td>1.840</td>\n",
       "      <td>74.20</td>\n",
       "      <td>3</td>\n",
       "    </tr>\n",
       "    <tr>\n",
       "      <th>1</th>\n",
       "      <td>25.104</td>\n",
       "      <td>91.552</td>\n",
       "      <td>1.552</td>\n",
       "      <td>72.76</td>\n",
       "      <td>3</td>\n",
       "    </tr>\n",
       "    <tr>\n",
       "      <th>2</th>\n",
       "      <td>20.000</td>\n",
       "      <td>96.000</td>\n",
       "      <td>7.000</td>\n",
       "      <td>60.00</td>\n",
       "      <td>1</td>\n",
       "    </tr>\n",
       "    <tr>\n",
       "      <th>3</th>\n",
       "      <td>23.536</td>\n",
       "      <td>90.768</td>\n",
       "      <td>0.768</td>\n",
       "      <td>68.84</td>\n",
       "      <td>3</td>\n",
       "    </tr>\n",
       "    <tr>\n",
       "      <th>4</th>\n",
       "      <td>17.248</td>\n",
       "      <td>97.872</td>\n",
       "      <td>8.248</td>\n",
       "      <td>53.12</td>\n",
       "      <td>0</td>\n",
       "    </tr>\n",
       "    <tr>\n",
       "      <th>...</th>\n",
       "      <td>...</td>\n",
       "      <td>...</td>\n",
       "      <td>...</td>\n",
       "      <td>...</td>\n",
       "      <td>...</td>\n",
       "    </tr>\n",
       "    <tr>\n",
       "      <th>625</th>\n",
       "      <td>20.960</td>\n",
       "      <td>92.960</td>\n",
       "      <td>3.440</td>\n",
       "      <td>62.40</td>\n",
       "      <td>2</td>\n",
       "    </tr>\n",
       "    <tr>\n",
       "      <th>626</th>\n",
       "      <td>17.376</td>\n",
       "      <td>98.064</td>\n",
       "      <td>8.376</td>\n",
       "      <td>53.44</td>\n",
       "      <td>0</td>\n",
       "    </tr>\n",
       "    <tr>\n",
       "      <th>627</th>\n",
       "      <td>27.504</td>\n",
       "      <td>86.880</td>\n",
       "      <td>0.000</td>\n",
       "      <td>78.76</td>\n",
       "      <td>4</td>\n",
       "    </tr>\n",
       "    <tr>\n",
       "      <th>628</th>\n",
       "      <td>19.728</td>\n",
       "      <td>95.728</td>\n",
       "      <td>6.728</td>\n",
       "      <td>59.32</td>\n",
       "      <td>1</td>\n",
       "    </tr>\n",
       "    <tr>\n",
       "      <th>629</th>\n",
       "      <td>21.392</td>\n",
       "      <td>93.392</td>\n",
       "      <td>4.088</td>\n",
       "      <td>63.48</td>\n",
       "      <td>2</td>\n",
       "    </tr>\n",
       "  </tbody>\n",
       "</table>\n",
       "<p>630 rows × 5 columns</p>\n",
       "</div>"
      ],
      "text/plain": [
       "     respiration rate  body temperature  sleeping hours  heart rate   \n",
       "0              25.680            91.840           1.840       74.20  \\\n",
       "1              25.104            91.552           1.552       72.76   \n",
       "2              20.000            96.000           7.000       60.00   \n",
       "3              23.536            90.768           0.768       68.84   \n",
       "4              17.248            97.872           8.248       53.12   \n",
       "..                ...               ...             ...         ...   \n",
       "625            20.960            92.960           3.440       62.40   \n",
       "626            17.376            98.064           8.376       53.44   \n",
       "627            27.504            86.880           0.000       78.76   \n",
       "628            19.728            95.728           6.728       59.32   \n",
       "629            21.392            93.392           4.088       63.48   \n",
       "\n",
       "     stress level  \n",
       "0               3  \n",
       "1               3  \n",
       "2               1  \n",
       "3               3  \n",
       "4               0  \n",
       "..            ...  \n",
       "625             2  \n",
       "626             0  \n",
       "627             4  \n",
       "628             1  \n",
       "629             2  \n",
       "\n",
       "[630 rows x 5 columns]"
      ]
     },
     "execution_count": 6,
     "metadata": {},
     "output_type": "execute_result"
    }
   ],
   "source": [
    "df"
   ]
  },
  {
   "cell_type": "code",
   "execution_count": 7,
   "metadata": {},
   "outputs": [
    {
     "data": {
      "text/plain": [
       "respiration rate    0\n",
       "body temperature    0\n",
       "sleeping hours      0\n",
       "heart rate          0\n",
       "stress level        0\n",
       "dtype: int64"
      ]
     },
     "execution_count": 7,
     "metadata": {},
     "output_type": "execute_result"
    }
   ],
   "source": [
    "df.isna().sum().sort_values()"
   ]
  },
  {
   "cell_type": "code",
   "execution_count": 8,
   "metadata": {},
   "outputs": [
    {
     "name": "stdout",
     "output_type": "stream",
     "text": [
      "[[0.69142857 0.48857143 0.20444444 0.69142857]\n",
      " [0.65028571 0.468      0.17244444 0.65028571]\n",
      " [0.28571429 0.78571429 0.77777778 0.28571429]\n",
      " ...\n",
      " [0.82171429 0.13428571 0.         0.82171429]\n",
      " [0.26628571 0.76628571 0.74755556 0.26628571]\n",
      " [0.38514286 0.59942857 0.45422222 0.38514286]]\n"
     ]
    }
   ],
   "source": [
    "#Importing library\n",
    "from sklearn.preprocessing import MinMaxScaler\n",
    "\n",
    "#Defining variable\n",
    "scaler = MinMaxScaler()\n",
    "\n",
    "#transform data\n",
    "scaled = scaler.fit_transform(df[[ 'respiration rate', 'body temperature',\n",
    "        'sleeping hours','heart rate']])\n",
    "print(scaled)\n"
   ]
  },
  {
   "cell_type": "code",
   "execution_count": 9,
   "metadata": {},
   "outputs": [],
   "source": [
    "newdf = pd.DataFrame(scaled, columns =[ 'respiration rate', 'body temperature',\n",
    " 'sleeping hours', 'heart rate'])"
   ]
  },
  {
   "cell_type": "code",
   "execution_count": 10,
   "metadata": {},
   "outputs": [],
   "source": [
    "newdf['stress level'] = df['stress level']"
   ]
  },
  {
   "cell_type": "code",
   "execution_count": 11,
   "metadata": {},
   "outputs": [],
   "source": [
    "from sklearn.model_selection import train_test_split as tts\n",
    "from sklearn import metrics\n",
    "from sklearn.linear_model import LogisticRegression\n",
    "\n",
    "from sklearn.ensemble import RandomForestClassifier\n",
    "from sklearn.model_selection import cross_val_score as cvs"
   ]
  },
  {
   "cell_type": "code",
   "execution_count": 12,
   "metadata": {},
   "outputs": [
    {
     "name": "stdout",
     "output_type": "stream",
     "text": [
      "Dimensions of train dataset: (378, 4)\n",
      "Dimensions of test dataset: (252, 4)\n"
     ]
    }
   ],
   "source": [
    "#splitting among features and target\n",
    "X = newdf[['respiration rate', 'body temperature', \n",
    "       'sleeping hours', 'heart rate']]\n",
    "y = newdf['stress level']\n",
    "#splitting among test and train dataset\n",
    "x_train, x_test, y_train, y_test= tts(X, y, test_size=0.4)\n",
    "print('Dimensions of train dataset:',x_train.shape)\n",
    "print('Dimensions of test dataset:',x_test.shape)\n",
    "\n",
    "#defining dictionaries for storing results of different models and comparing \n",
    "sc = {}\n",
    "rn = {}"
   ]
  },
  {
   "cell_type": "code",
   "execution_count": 13,
   "metadata": {},
   "outputs": [
    {
     "name": "stdout",
     "output_type": "stream",
     "text": [
      "accuracy_score: 1.0\n",
      "cross val score: 1.0\n"
     ]
    }
   ],
   "source": [
    "model=LogisticRegression()\n",
    "model.fit(x_train,y_train)\n",
    "model_pred=model.predict(x_test)\n",
    "print('accuracy_score:',metrics.accuracy_score(y_test, model_pred))\n",
    "\n",
    "r=cvs(model, X, y, cv=10, scoring='accuracy').mean()\n",
    "sc['Logistic Regression']=r\n",
    "rn['Logistic Regression']=np.array(np.unique(model_pred, return_counts=True))\n",
    "print('cross val score:',r)"
   ]
  },
  {
   "cell_type": "code",
   "execution_count": 14,
   "metadata": {},
   "outputs": [],
   "source": [
    "x1 = np.array([[0.819429,0.131429,0.000000,0.819429]])\n"
   ]
  },
  {
   "cell_type": "code",
   "execution_count": 26,
   "metadata": {},
   "outputs": [
    {
     "name": "stdout",
     "output_type": "stream",
     "text": [
      "4\n"
     ]
    },
    {
     "name": "stderr",
     "output_type": "stream",
     "text": [
      "c:\\Users\\vaish\\OneDrive\\Desktop\\project\\env\\Lib\\site-packages\\sklearn\\base.py:439: UserWarning: X does not have valid feature names, but LogisticRegression was fitted with feature names\n",
      "  warnings.warn(\n"
     ]
    }
   ],
   "source": [
    "prediction=model.predict(x1)\n",
    "\n",
    "print(prediction[0])"
   ]
  },
  {
   "cell_type": "code",
   "execution_count": 16,
   "metadata": {},
   "outputs": [
    {
     "data": {
      "text/html": [
       "<div>\n",
       "<style scoped>\n",
       "    .dataframe tbody tr th:only-of-type {\n",
       "        vertical-align: middle;\n",
       "    }\n",
       "\n",
       "    .dataframe tbody tr th {\n",
       "        vertical-align: top;\n",
       "    }\n",
       "\n",
       "    .dataframe thead th {\n",
       "        text-align: right;\n",
       "    }\n",
       "</style>\n",
       "<table border=\"1\" class=\"dataframe\">\n",
       "  <thead>\n",
       "    <tr style=\"text-align: right;\">\n",
       "      <th></th>\n",
       "      <th>respiration rate</th>\n",
       "      <th>body temperature</th>\n",
       "      <th>sleeping hours</th>\n",
       "      <th>heart rate</th>\n",
       "    </tr>\n",
       "  </thead>\n",
       "  <tbody>\n",
       "    <tr>\n",
       "      <th>368</th>\n",
       "      <td>0.270857</td>\n",
       "      <td>0.770857</td>\n",
       "      <td>0.754667</td>\n",
       "      <td>0.270857</td>\n",
       "    </tr>\n",
       "    <tr>\n",
       "      <th>618</th>\n",
       "      <td>0.097143</td>\n",
       "      <td>0.931429</td>\n",
       "      <td>0.928889</td>\n",
       "      <td>0.097143</td>\n",
       "    </tr>\n",
       "    <tr>\n",
       "      <th>194</th>\n",
       "      <td>0.878857</td>\n",
       "      <td>0.205714</td>\n",
       "      <td>0.000000</td>\n",
       "      <td>0.878857</td>\n",
       "    </tr>\n",
       "    <tr>\n",
       "      <th>1</th>\n",
       "      <td>0.650286</td>\n",
       "      <td>0.468000</td>\n",
       "      <td>0.172444</td>\n",
       "      <td>0.650286</td>\n",
       "    </tr>\n",
       "    <tr>\n",
       "      <th>424</th>\n",
       "      <td>0.100571</td>\n",
       "      <td>0.936571</td>\n",
       "      <td>0.934222</td>\n",
       "      <td>0.100571</td>\n",
       "    </tr>\n",
       "    <tr>\n",
       "      <th>...</th>\n",
       "      <td>...</td>\n",
       "      <td>...</td>\n",
       "      <td>...</td>\n",
       "      <td>...</td>\n",
       "    </tr>\n",
       "    <tr>\n",
       "      <th>199</th>\n",
       "      <td>0.595429</td>\n",
       "      <td>0.440571</td>\n",
       "      <td>0.129778</td>\n",
       "      <td>0.595429</td>\n",
       "    </tr>\n",
       "    <tr>\n",
       "      <th>20</th>\n",
       "      <td>0.411429</td>\n",
       "      <td>0.625714</td>\n",
       "      <td>0.515556</td>\n",
       "      <td>0.411429</td>\n",
       "    </tr>\n",
       "    <tr>\n",
       "      <th>31</th>\n",
       "      <td>0.732571</td>\n",
       "      <td>0.022857</td>\n",
       "      <td>0.000000</td>\n",
       "      <td>0.732571</td>\n",
       "    </tr>\n",
       "    <tr>\n",
       "      <th>348</th>\n",
       "      <td>0.664000</td>\n",
       "      <td>0.474857</td>\n",
       "      <td>0.183111</td>\n",
       "      <td>0.664000</td>\n",
       "    </tr>\n",
       "    <tr>\n",
       "      <th>57</th>\n",
       "      <td>0.673143</td>\n",
       "      <td>0.479429</td>\n",
       "      <td>0.190222</td>\n",
       "      <td>0.673143</td>\n",
       "    </tr>\n",
       "  </tbody>\n",
       "</table>\n",
       "<p>252 rows × 4 columns</p>\n",
       "</div>"
      ],
      "text/plain": [
       "     respiration rate  body temperature  sleeping hours  heart rate\n",
       "368          0.270857          0.770857        0.754667    0.270857\n",
       "618          0.097143          0.931429        0.928889    0.097143\n",
       "194          0.878857          0.205714        0.000000    0.878857\n",
       "1            0.650286          0.468000        0.172444    0.650286\n",
       "424          0.100571          0.936571        0.934222    0.100571\n",
       "..                ...               ...             ...         ...\n",
       "199          0.595429          0.440571        0.129778    0.595429\n",
       "20           0.411429          0.625714        0.515556    0.411429\n",
       "31           0.732571          0.022857        0.000000    0.732571\n",
       "348          0.664000          0.474857        0.183111    0.664000\n",
       "57           0.673143          0.479429        0.190222    0.673143\n",
       "\n",
       "[252 rows x 4 columns]"
      ]
     },
     "execution_count": 16,
     "metadata": {},
     "output_type": "execute_result"
    }
   ],
   "source": [
    "x_test"
   ]
  },
  {
   "cell_type": "code",
   "execution_count": 17,
   "metadata": {},
   "outputs": [
    {
     "data": {
      "text/plain": [
       "array([1, 0, 4, 3, 0, 2, 2, 1, 1, 2, 2, 4, 0, 4, 3, 1, 3, 0, 4, 1, 1, 4,\n",
       "       2, 3, 4, 4, 3, 3, 2, 1, 3, 0, 2, 0, 0, 4, 4, 4, 2, 1, 1, 1, 1, 1,\n",
       "       1, 4, 4, 4, 0, 1, 0, 3, 3, 4, 1, 2, 1, 3, 3, 3, 4, 2, 3, 1, 2, 2,\n",
       "       4, 1, 2, 2, 1, 4, 2, 2, 1, 4, 0, 3, 0, 2, 0, 4, 2, 3, 4, 4, 0, 4,\n",
       "       1, 0, 2, 3, 2, 4, 1, 4, 1, 1, 1, 3, 3, 3, 3, 4, 0, 2, 1, 0, 0, 3,\n",
       "       4, 1, 0, 1, 1, 0, 1, 4, 4, 2, 2, 2, 3, 1, 1, 3, 2, 3, 1, 0, 3, 4,\n",
       "       4, 4, 0, 3, 4, 0, 4, 0, 0, 0, 0, 2, 0, 1, 2, 4, 1, 2, 3, 3, 2, 3,\n",
       "       0, 3, 1, 4, 3, 3, 0, 2, 4, 4, 0, 3, 0, 4, 4, 3, 3, 1, 1, 2, 3, 1,\n",
       "       4, 0, 3, 3, 0, 1, 0, 3, 0, 4, 4, 1, 0, 0, 2, 2, 2, 2, 3, 2, 0, 3,\n",
       "       2, 0, 0, 1, 1, 1, 1, 1, 4, 1, 0, 1, 0, 2, 2, 1, 3, 1, 1, 0, 0, 1,\n",
       "       2, 3, 3, 4, 2, 1, 3, 2, 0, 3, 0, 3, 2, 4, 2, 2, 3, 1, 1, 2, 2, 3,\n",
       "       3, 2, 0, 2, 0, 3, 2, 4, 3, 3], dtype=int64)"
      ]
     },
     "execution_count": 17,
     "metadata": {},
     "output_type": "execute_result"
    }
   ],
   "source": [
    "model.predict(x_test)"
   ]
  },
  {
   "cell_type": "code",
   "execution_count": 18,
   "metadata": {},
   "outputs": [],
   "source": [
    "with open('model.pkl','wb') as files:\n",
    "    pickle.dump(model,files)"
   ]
  },
  {
   "cell_type": "code",
   "execution_count": null,
   "metadata": {},
   "outputs": [],
   "source": []
  }
 ],
 "metadata": {
  "kernelspec": {
   "display_name": "env",
   "language": "python",
   "name": "python3"
  },
  "language_info": {
   "codemirror_mode": {
    "name": "ipython",
    "version": 3
   },
   "file_extension": ".py",
   "mimetype": "text/x-python",
   "name": "python",
   "nbconvert_exporter": "python",
   "pygments_lexer": "ipython3",
   "version": "3.11.1"
  },
  "orig_nbformat": 4
 },
 "nbformat": 4,
 "nbformat_minor": 2
}
